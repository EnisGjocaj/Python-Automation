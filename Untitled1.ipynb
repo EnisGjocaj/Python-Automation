{
 "cells": [
  {
   "cell_type": "code",
   "execution_count": null,
   "id": "db1a98d3-b460-42af-878f-de26577729ec",
   "metadata": {},
   "outputs": [],
   "source": [
    "#Extracting tables from PDFs"
   ]
  },
  {
   "cell_type": "code",
   "execution_count": null,
   "id": "032f1ebd-f8e9-4d6f-8133-ec4ff0b20091",
   "metadata": {},
   "outputs": [],
   "source": [
    "import pandas as pd"
   ]
  },
  {
   "cell_type": "code",
   "execution_count": null,
   "id": "7a07cecd-82f1-41f6-90fd-eee06d6d8d9e",
   "metadata": {},
   "outputs": [],
   "source": []
  }
 ],
 "metadata": {
  "kernelspec": {
   "display_name": "Python 3 (ipykernel)",
   "language": "python",
   "name": "python3"
  },
  "language_info": {
   "codemirror_mode": {
    "name": "ipython",
    "version": 3
   },
   "file_extension": ".py",
   "mimetype": "text/x-python",
   "name": "python",
   "nbconvert_exporter": "python",
   "pygments_lexer": "ipython3",
   "version": "3.12.2"
  }
 },
 "nbformat": 4,
 "nbformat_minor": 5
}
